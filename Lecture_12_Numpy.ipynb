{
 "cells": [
  {
   "cell_type": "code",
   "execution_count": 1,
   "id": "58f3ca03",
   "metadata": {},
   "outputs": [],
   "source": [
    "import numpy as np"
   ]
  },
  {
   "cell_type": "markdown",
   "id": "eb9754e4",
   "metadata": {},
   "source": [
    "# Introduction to Numpy\n",
    "    * Numpy is a Python package and it stands for numerical python\n",
    "    * Fundamental package for numnerical computations in Python\n",
    "    * Support N-dimensional array objects that can be used for processing multidimensional data"
   ]
  },
  {
   "cell_type": "markdown",
   "id": "2a11d5a1",
   "metadata": {},
   "source": [
    "# Array\n",
    "    * An array is a data structure that stores values of same data type\n",
    "    * Lists can contain values corresponding to different data types\n",
    "    * Array in python can only contain values corresponding to same data type"
   ]
  },
  {
   "cell_type": "markdown",
   "id": "83d38fcc",
   "metadata": {},
   "source": [
    "# NumPy Array\n",
    "    * A numpy array is a grid of values, all of the same type, and is indexed  by a tuple of non-negative integer\n",
    "    * The number of dimensions is the rank of the array\n",
    "    * The shape of an array is a tuple of integers giving the size of the array along each dimension"
   ]
  },
  {
   "cell_type": "markdown",
   "id": "ede8a6f8",
   "metadata": {},
   "source": [
    "# Creation of array"
   ]
  },
  {
   "cell_type": "code",
   "execution_count": 2,
   "id": "52aa6305",
   "metadata": {},
   "outputs": [
    {
     "name": "stdout",
     "output_type": "stream",
     "text": [
      "[1, 2, 3, 4, 5, 6]\n"
     ]
    }
   ],
   "source": [
    "my_list = [1,2,3,4,5,6]\n",
    "print(my_list)"
   ]
  },
  {
   "cell_type": "markdown",
   "id": "4caacc26",
   "metadata": {},
   "source": [
    "* To create numpy array, we first need to import numpy package"
   ]
  },
  {
   "cell_type": "code",
   "execution_count": 3,
   "id": "22feb672",
   "metadata": {},
   "outputs": [],
   "source": [
    "import numpy as np"
   ]
  },
  {
   "cell_type": "code",
   "execution_count": 4,
   "id": "3800e391",
   "metadata": {},
   "outputs": [
    {
     "name": "stdout",
     "output_type": "stream",
     "text": [
      "[1 2 3 4 5 6]\n"
     ]
    }
   ],
   "source": [
    "array = np.array(my_list, dtype = int)\n",
    "print(array)"
   ]
  },
  {
   "cell_type": "code",
   "execution_count": 5,
   "id": "cefc6778",
   "metadata": {},
   "outputs": [
    {
     "name": "stdout",
     "output_type": "stream",
     "text": [
      "<class 'numpy.ndarray'>\n",
      "6\n",
      "1\n",
      "(6,)\n"
     ]
    }
   ],
   "source": [
    "print(type(array))\n",
    "print(len(array))\n",
    "print(array.ndim)\n",
    "print(array.shape)"
   ]
  },
  {
   "cell_type": "code",
   "execution_count": 7,
   "id": "7638b371",
   "metadata": {},
   "outputs": [
    {
     "name": "stdout",
     "output_type": "stream",
     "text": [
      "[[1 2]\n",
      " [3 4]\n",
      " [5 6]]\n",
      "(3, 2)\n"
     ]
    }
   ],
   "source": [
    "array2 = array.reshape(3,2)\n",
    "print(array2)\n",
    "print(array2.shape)"
   ]
  },
  {
   "cell_type": "code",
   "execution_count": 8,
   "id": "76c92874",
   "metadata": {},
   "outputs": [
    {
     "name": "stdout",
     "output_type": "stream",
     "text": [
      "[[1 2]\n",
      " [3 4]\n",
      " [5 6]]\n",
      "(3, 2)\n"
     ]
    }
   ],
   "source": [
    "array3 = array.reshape(3,-1)\n",
    "print(array3)\n",
    "print(array3.shape)"
   ]
  },
  {
   "cell_type": "code",
   "execution_count": 10,
   "id": "cd993874",
   "metadata": {},
   "outputs": [
    {
     "name": "stdout",
     "output_type": "stream",
     "text": [
      "[[1]\n",
      " [2]\n",
      " [3]\n",
      " [4]\n",
      " [5]\n",
      " [6]]\n",
      "(6, 1)\n"
     ]
    }
   ],
   "source": [
    "array_1 = array.reshape(-1,1)\n",
    "print(array_1)\n",
    "print(array_1.shape)"
   ]
  },
  {
   "cell_type": "markdown",
   "id": "a77c8dcb",
   "metadata": {},
   "source": [
    "# Initializing numpy arrays from nested python list"
   ]
  },
  {
   "cell_type": "code",
   "execution_count": 11,
   "id": "98207737",
   "metadata": {},
   "outputs": [
    {
     "name": "stdout",
     "output_type": "stream",
     "text": [
      "[[1 2 3 4 5]\n",
      " [2 3 4 5 6]\n",
      " [9 7 6 8 9]]\n",
      "(3, 5)\n"
     ]
    }
   ],
   "source": [
    "my_list2 = [1,2,3,4,5]\n",
    "my_list3 = [2,3,4,5,6]\n",
    "my_list4 = [9,7,6,8,9]\n",
    "mul_arr = np.array([my_list2,my_list3,my_list4])\n",
    "print(mul_arr)\n",
    "print(mul_arr.shape)"
   ]
  },
  {
   "cell_type": "code",
   "execution_count": 12,
   "id": "9e36dbae",
   "metadata": {},
   "outputs": [
    {
     "data": {
      "text/plain": [
       "array([[1],\n",
       "       [2],\n",
       "       [3],\n",
       "       [4],\n",
       "       [5],\n",
       "       [2],\n",
       "       [3],\n",
       "       [4],\n",
       "       [5],\n",
       "       [6],\n",
       "       [9],\n",
       "       [7],\n",
       "       [6],\n",
       "       [8],\n",
       "       [9]])"
      ]
     },
     "execution_count": 12,
     "metadata": {},
     "output_type": "execute_result"
    }
   ],
   "source": [
    "mul_arr.reshape(-1,1)"
   ]
  },
  {
   "cell_type": "code",
   "execution_count": 13,
   "id": "ef8260d7",
   "metadata": {},
   "outputs": [
    {
     "data": {
      "text/plain": [
       "array([[1, 2, 3, 4, 5, 2, 3, 4, 5, 6, 9, 7, 6, 8, 9]])"
      ]
     },
     "execution_count": 13,
     "metadata": {},
     "output_type": "execute_result"
    }
   ],
   "source": [
    "mul_arr.reshape(1,15)"
   ]
  },
  {
   "cell_type": "markdown",
   "id": "790251f1",
   "metadata": {},
   "source": [
    "# NumPy-Attributes"
   ]
  },
  {
   "cell_type": "code",
   "execution_count": 14,
   "id": "3cb1e423",
   "metadata": {},
   "outputs": [
    {
     "name": "stdout",
     "output_type": "stream",
     "text": [
      "(2, 3)\n"
     ]
    }
   ],
   "source": [
    "a = np.array([[1,2,3],[4,5,6]])\n",
    "print(a.shape)"
   ]
  },
  {
   "cell_type": "markdown",
   "id": "1e1baab0",
   "metadata": {},
   "source": [
    "# reshaping the ndarray"
   ]
  },
  {
   "cell_type": "code",
   "execution_count": 15,
   "id": "8403a295",
   "metadata": {},
   "outputs": [
    {
     "name": "stdout",
     "output_type": "stream",
     "text": [
      "[[1 2]\n",
      " [3 4]\n",
      " [5 6]]\n"
     ]
    }
   ],
   "source": [
    "a.shape = (3,2)\n",
    "print(a)"
   ]
  },
  {
   "cell_type": "code",
   "execution_count": 16,
   "id": "2d95c428",
   "metadata": {},
   "outputs": [
    {
     "name": "stdout",
     "output_type": "stream",
     "text": [
      "range(0, 24)\n"
     ]
    }
   ],
   "source": [
    "r = range(24)\n",
    "print(r)"
   ]
  },
  {
   "cell_type": "code",
   "execution_count": 17,
   "id": "c39128cb",
   "metadata": {},
   "outputs": [
    {
     "name": "stdout",
     "output_type": "stream",
     "text": [
      "[ 0  1  2  3  4  5  6  7  8  9 10 11 12 13 14 15 16 17 18 19 20 21 22 23]\n",
      "1\n"
     ]
    }
   ],
   "source": [
    "# an array of evenly spaced number\n",
    "a = np.arange(24)\n",
    "print(a)\n",
    "print(a.ndim)"
   ]
  },
  {
   "cell_type": "code",
   "execution_count": 18,
   "id": "e5071b23",
   "metadata": {},
   "outputs": [
    {
     "name": "stdout",
     "output_type": "stream",
     "text": [
      "[[[ 0]\n",
      "  [ 1]\n",
      "  [ 2]\n",
      "  [ 3]]\n",
      "\n",
      " [[ 4]\n",
      "  [ 5]\n",
      "  [ 6]\n",
      "  [ 7]]\n",
      "\n",
      " [[ 8]\n",
      "  [ 9]\n",
      "  [10]\n",
      "  [11]]\n",
      "\n",
      " [[12]\n",
      "  [13]\n",
      "  [14]\n",
      "  [15]]\n",
      "\n",
      " [[16]\n",
      "  [17]\n",
      "  [18]\n",
      "  [19]]\n",
      "\n",
      " [[20]\n",
      "  [21]\n",
      "  [22]\n",
      "  [23]]]\n"
     ]
    }
   ],
   "source": [
    "# Reshaping the array 'a'\n",
    "b = a.reshape(6,4,1)\n",
    "print(b)"
   ]
  },
  {
   "cell_type": "markdown",
   "id": "c689cf18",
   "metadata": {},
   "source": [
    "# NumPy Arthemetic operation\n"
   ]
  },
  {
   "cell_type": "code",
   "execution_count": 19,
   "id": "3ef8ae9a",
   "metadata": {},
   "outputs": [
    {
     "name": "stdout",
     "output_type": "stream",
     "text": [
      "[[1. 2.]\n",
      " [3. 4.]]\n",
      "[[5. 6.]\n",
      " [7. 8.]]\n"
     ]
    }
   ],
   "source": [
    "x = np.array([[1,2],[3,4]],dtype = np.float64)\n",
    "y = np.array([[5,6],[7,8]],dtype = np.float64)\n",
    "print(x)\n",
    "print(y)"
   ]
  },
  {
   "cell_type": "markdown",
   "id": "7f0b3cfc",
   "metadata": {},
   "source": [
    "# numpy.add() - performs elementwise addition between two arrays\n"
   ]
  },
  {
   "cell_type": "code",
   "execution_count": 20,
   "id": "7c0d1e1d",
   "metadata": {},
   "outputs": [],
   "source": [
    "# Syntax: numpy.add(arr_1,arr_2)"
   ]
  },
  {
   "cell_type": "code",
   "execution_count": 22,
   "id": "35bda1c9",
   "metadata": {},
   "outputs": [
    {
     "name": "stdout",
     "output_type": "stream",
     "text": [
      "[[ 6.  8.]\n",
      " [10. 12.]]\n",
      "[[ 6.  8.]\n",
      " [10. 12.]]\n"
     ]
    }
   ],
   "source": [
    "print(x+y)\n",
    "print(np.add(x,y))"
   ]
  },
  {
   "cell_type": "markdown",
   "id": "cb100728",
   "metadata": {},
   "source": [
    "# numpy.subtract() - performs elementwise subtraction between two arrays"
   ]
  },
  {
   "cell_type": "code",
   "execution_count": 23,
   "id": "ec723c02",
   "metadata": {},
   "outputs": [],
   "source": [
    "# Syntax: numpy.subtract(arr_1,arr_2)"
   ]
  },
  {
   "cell_type": "code",
   "execution_count": 24,
   "id": "4b6e7844",
   "metadata": {},
   "outputs": [
    {
     "name": "stdout",
     "output_type": "stream",
     "text": [
      "[[-4. -4.]\n",
      " [-4. -4.]]\n",
      "[[-4. -4.]\n",
      " [-4. -4.]]\n"
     ]
    }
   ],
   "source": [
    "print(x-y)\n",
    "print(np.subtract(x,y))"
   ]
  },
  {
   "cell_type": "markdown",
   "id": "1b0c7103",
   "metadata": {},
   "source": [
    "# numpy.multiply() - performs elementwise multiplication between two arrays"
   ]
  },
  {
   "cell_type": "code",
   "execution_count": 25,
   "id": "33218cea",
   "metadata": {},
   "outputs": [],
   "source": [
    "# Syntax: numpy.multiply(arr1,arr2)"
   ]
  },
  {
   "cell_type": "code",
   "execution_count": 28,
   "id": "07940107",
   "metadata": {},
   "outputs": [
    {
     "name": "stdout",
     "output_type": "stream",
     "text": [
      "[[ 5. 12.]\n",
      " [21. 32.]]\n",
      "[[ 5. 12.]\n",
      " [21. 32.]]\n"
     ]
    }
   ],
   "source": [
    "print(x*y)\n",
    "print(np.multiply(x,y))"
   ]
  },
  {
   "cell_type": "code",
   "execution_count": 29,
   "id": "98c3e139",
   "metadata": {},
   "outputs": [
    {
     "name": "stdout",
     "output_type": "stream",
     "text": [
      "[[19. 22.]\n",
      " [43. 50.]]\n"
     ]
    }
   ],
   "source": [
    "print(x.dot(y))"
   ]
  },
  {
   "cell_type": "code",
   "execution_count": 30,
   "id": "1ca03863",
   "metadata": {},
   "outputs": [
    {
     "name": "stdout",
     "output_type": "stream",
     "text": [
      "[[19. 22.]\n",
      " [43. 50.]]\n"
     ]
    }
   ],
   "source": [
    "print(np.dot(x,y))"
   ]
  },
  {
   "cell_type": "code",
   "execution_count": 31,
   "id": "c8c3e6bd",
   "metadata": {},
   "outputs": [
    {
     "name": "stdout",
     "output_type": "stream",
     "text": [
      "[[0.2        0.33333333]\n",
      " [0.42857143 0.5       ]]\n",
      "[[0.2        0.33333333]\n",
      " [0.42857143 0.5       ]]\n"
     ]
    }
   ],
   "source": [
    "print(x/y)\n",
    "print(np.divide(x,y))"
   ]
  },
  {
   "cell_type": "markdown",
   "id": "1eafca17",
   "metadata": {},
   "source": [
    "* Function Name                        Description\n",
    "    * np.add(): Add arguments element wise\n",
    "    * np.subtract() : Subtract argument, element-wise\n",
    "    * np.multiply() : Multiply arguments element-wise\n",
    "    * np.divide() :  Return a true, division of the input, elemnent wise\n",
    "    * np.logaddexp() : Logarithm of the sum of exponentions of the input in base-2\n",
    "    * np.true_divide() : \n",
    "    * np.negative: Numerical negative, element-wise\n",
    "    * np.positive: Numerical positive, element-wise\n",
    "    * np.power() : First array element raised to powers from second array, elememtn-wise\n",
    "    * np.remainder: return element-wise remainder of division\n",
    "    * np.mod: return element-wisae remainder of division"
   ]
  },
  {
   "cell_type": "markdown",
   "id": "ac1db8fb",
   "metadata": {},
   "source": [
    "# np.sum() - returns sum of all array elements or sum of all array elements over a given axis\n",
    "* Syntax: np.sum(array,axis)"
   ]
  },
  {
   "cell_type": "code",
   "execution_count": 32,
   "id": "6470aba4",
   "metadata": {},
   "outputs": [
    {
     "name": "stdout",
     "output_type": "stream",
     "text": [
      "[[1. 2.]\n",
      " [3. 4.]]\n"
     ]
    }
   ],
   "source": [
    "print(x)"
   ]
  },
  {
   "cell_type": "code",
   "execution_count": 33,
   "id": "3ee80ec5",
   "metadata": {},
   "outputs": [
    {
     "name": "stdout",
     "output_type": "stream",
     "text": [
      "10.0\n"
     ]
    }
   ],
   "source": [
    "print(np.sum(x)) # compute overall sum (axis=None)"
   ]
  },
  {
   "cell_type": "code",
   "execution_count": 35,
   "id": "86b004e2",
   "metadata": {},
   "outputs": [
    {
     "name": "stdout",
     "output_type": "stream",
     "text": [
      "[4. 6.]\n"
     ]
    }
   ],
   "source": [
    "print(np.sum(x,axis=0)) # Computer sum of each column"
   ]
  },
  {
   "cell_type": "code",
   "execution_count": 37,
   "id": "8a7f332f",
   "metadata": {},
   "outputs": [
    {
     "name": "stdout",
     "output_type": "stream",
     "text": [
      "[3. 7.]\n"
     ]
    }
   ],
   "source": [
    "print(np.sum(x,axis=1)) # computer sum of each row"
   ]
  },
  {
   "cell_type": "markdown",
   "id": "7f087289",
   "metadata": {},
   "source": [
    "# END OF SCRIPT"
   ]
  },
  {
   "cell_type": "markdown",
   "id": "2bd6c813",
   "metadata": {},
   "source": [
    "This file uploaded on gitHub"
   ]
  },
  {
   "cell_type": "code",
   "execution_count": null,
   "id": "2d3a1947",
   "metadata": {},
   "outputs": [],
   "source": []
  }
 ],
 "metadata": {
  "kernelspec": {
   "display_name": "Python 3 (ipykernel)",
   "language": "python",
   "name": "python3"
  },
  "language_info": {
   "codemirror_mode": {
    "name": "ipython",
    "version": 3
   },
   "file_extension": ".py",
   "mimetype": "text/x-python",
   "name": "python",
   "nbconvert_exporter": "python",
   "pygments_lexer": "ipython3",
   "version": "3.8.0"
  }
 },
 "nbformat": 4,
 "nbformat_minor": 5
}
